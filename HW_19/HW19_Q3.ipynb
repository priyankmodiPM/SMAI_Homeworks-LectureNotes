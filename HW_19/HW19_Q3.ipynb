{
 "cells": [
  {
   "cell_type": "code",
   "execution_count": 11,
   "metadata": {},
   "outputs": [],
   "source": [
    "import numpy as np\n",
    "import matplotlib.pyplot as plt\n",
    "import random\n",
    "import sklearn\n",
    "import math"
   ]
  },
  {
   "cell_type": "code",
   "execution_count": 12,
   "metadata": {},
   "outputs": [],
   "source": [
    "mean1=[0,0]\n",
    "cov1=[[1,0],[0,1]]\n",
    "mean2=[1,1]\n",
    "cov2=[[1,1],[1,1]]\n",
    "class1=np.random.multivariate_normal(mean1,cov1,100).T\n",
    "class2=np.random.multivariate_normal(mean2,cov2,100).T\n",
    "data_x=np.concatenate((class1[0],class2[0]),axis=0)\n",
    "train_x=data_x[0:160]\n",
    "test_x=data_x[160:200]\n",
    "data_y=np.concatenate((class1[1],class2[1]),axis=0)\n",
    "train_y=data_y[0:160]\n",
    "test_y=data_y[160:200]\n",
    "train_lab=np.array([0]*100+[1]*60)\n",
    "test_lab=np.array([1]*40)"
   ]
  },
  {
   "cell_type": "code",
   "execution_count": 13,
   "metadata": {},
   "outputs": [],
   "source": [
    "def sigmoid(x):\n",
    "    return 1/(1+np.exp(-x))"
   ]
  },
  {
   "cell_type": "code",
   "execution_count": 14,
   "metadata": {},
   "outputs": [],
   "source": [
    "w1,w2,w3,w4,w5,w6=1,1,1,1,1,1"
   ]
  },
  {
   "cell_type": "code",
   "execution_count": 15,
   "metadata": {},
   "outputs": [],
   "source": [
    "def train_loss(we1,we2,we3,we4,we5,we6):\n",
    "    J=0\n",
    "    for i in range(0,160):\n",
    "        sig_in1=w1*train_x[i]+w3*train_y[i]\n",
    "        sig_in2=w2*train_x[i]+w4*train_y[i]\n",
    "        J=J+train_lab[i]-sigmoid(w5*np.tanh(sig_in1)+w6*np.tanh(sig_in2))+0.1*(we1**1+we2**2+we3**2+we4**2+we5**2+we6**2)\n",
    "    return J**2"
   ]
  },
  {
   "cell_type": "code",
   "execution_count": 16,
   "metadata": {},
   "outputs": [],
   "source": [
    "def diff(x1,x2,y,we1,we2,we3,we4,we5,we6):\n",
    "    sig_in1=we1*x1+we3*x2\n",
    "    sig_in2=we2*x1+we4*x2\n",
    "    z=we5*np.tanh(sig_in1)+we6*np.tanh(sig_in2)\n",
    "    temp=2*(y-sigmoid(z))*-1*(sigmoid(z))*(1-sigmoid(z))\n",
    "    diff_w1=temp*w5*(1-np.tanh(sig_in1)**2)*x1+0.1*2*w1\n",
    "    diff_w2=temp*w6*(1-np.tanh(sig_in2)**2)*x1+0.1*2*w2\n",
    "    diff_w3=temp*w5*(1-np.tanh(sig_in1)**2)*x2+0.1*2*w3\n",
    "    diff_w4=temp*w6*(1-np.tanh(sig_in2)**2)*x2+0.1*2*w4\n",
    "    diff_w5=temp*np.tanh(sig_in1)+2*w5*0.1\n",
    "    diff_w6=temp*np.tanh(sig_in2)+2*w6*0.1\n",
    "    return [diff_w1,diff_w2,diff_w3,diff_w4,diff_w5,diff_w6]"
   ]
  },
  {
   "cell_type": "code",
   "execution_count": 17,
   "metadata": {},
   "outputs": [],
   "source": [
    "def train_diff(we1,we2,we3,we4,we5,we6):\n",
    "    a=np.array([0,0,0,0,0,0])\n",
    "    for j in range(0,160):\n",
    "        b=np.array(diff(train_x[j],train_y[j],train_lab[j],we1,we2,we3,we4,we5,we6))\n",
    "        a=a+b\n",
    "    return a"
   ]
  },
  {
   "cell_type": "code",
   "execution_count": 18,
   "metadata": {},
   "outputs": [],
   "source": [
    "def backpropogate(we1,we2,we3,we4,we5,we6):\n",
    "    temp_arr=np.array(train_diff(we1,we2,we3,we4,we5,we6))\n",
    "    diff_arr=np.array([we1,we2,we3,we4,we5,we6])\n",
    "    diff_arr=diff_arr-0.01*temp_arr\n",
    "    we1,we2,we3,we4,we5,we6=diff_arr.tolist()\n",
    "    loss_update=train_loss(we1,we2,we3,we4,we5,we6)\n",
    "    return ([loss_update,we1,we2,we3,we4,we5,we6])"
   ]
  },
  {
   "cell_type": "code",
   "execution_count": 19,
   "metadata": {},
   "outputs": [],
   "source": [
    "list1=list()\n",
    "list2=list()\n",
    "list1.append(train_loss(w1,w2,w3,w4,w5,w6))\n",
    "list2.append(0)\n",
    "iterat=1"
   ]
  },
  {
   "cell_type": "code",
   "execution_count": 21,
   "metadata": {},
   "outputs": [
    {
     "data": {
      "image/png": "[encoded data removed]",
      "text/plain": [
       "<Figure size 432x288 with 1 Axes>"
      ]
     },
     "metadata": {
      "needs_background": "light"
     },
     "output_type": "display_data"
    }
   ],
   "source": [
    "for i in range(1,51):\n",
    "    update=backpropogate(w1,w2,w3,w4,w5,w6)\n",
    "    loss=update[0]\n",
    "    list1.append(loss)\n",
    "    list2.append(i)\n",
    "    w1,w2,w3,w4,w5,w6=update[1:7]\n",
    "plt.plot(list2,list1)\n",
    "plt.show()"
   ]
  },
  {
   "cell_type": "code",
   "execution_count": null,
   "metadata": {},
   "outputs": [],
   "source": []
  },
  {
   "cell_type": "code",
   "execution_count": null,
   "metadata": {},
   "outputs": [],
   "source": []
  }
 ],
 "metadata": {
  "kernelspec": {
   "display_name": "Python 3",
   "language": "python",
   "name": "python3"
  },
  "language_info": {
   "codemirror_mode": {
    "name": "ipython",
    "version": 3
   },
   "file_extension": ".py",
   "mimetype": "text/x-python",
   "name": "python",
   "nbconvert_exporter": "python",
   "pygments_lexer": "ipython3",
   "version": "3.6.8"
  }
 },
 "nbformat": 4,
 "nbformat_minor": 2
}
