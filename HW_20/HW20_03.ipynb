{
 "cells": [
  {
   "cell_type": "code",
   "execution_count": 23,
   "metadata": {
    "colab": {
     "base_uri": "https://localhost:8080/",
     "height": 34
    },
    "colab_type": "code",
    "executionInfo": {
     "elapsed": 923,
     "status": "ok",
     "timestamp": 1572518100528,
     "user": {
      "displayName": "Aniket Mohanty",
      "photoUrl": "",
      "userId": "10442872571175066721"
     },
     "user_tz": -330
    },
    "id": "Huz1LUrnx4qB",
    "outputId": "99568990-2a7a-47b8-9d6c-142c2e4bb669"
   },
   "outputs": [
    {
     "name": "stdout",
     "output_type": "stream",
     "text": [
      "True\n"
     ]
    }
   ],
   "source": [
    "import torch\n",
    "import torch.nn as nn\n",
    "import torchvision.datasets as dsets\n",
    "import torchvision.transforms as transforms\n",
    "import torch.optim as optim\n",
    "from torch.autograd import Variable\n",
    "import matplotlib.pyplot as plt\n",
    "import numpy as np\n",
    "print(torch.cuda.is_available())\n",
    "use_cuda = True"
   ]
  },
  {
   "cell_type": "code",
   "execution_count": null,
   "metadata": {
    "colab": {},
    "colab_type": "code",
    "id": "Gwc5o0Czx-aW"
   },
   "outputs": [],
   "source": [
    "input_size = 28*28\n",
    "classes = 10\n",
    "epochs = 10\n",
    "batch_size = 100\n",
    "lr = 1e-2"
   ]
  },
  {
   "cell_type": "code",
   "execution_count": null,
   "metadata": {
    "colab": {},
    "colab_type": "code",
    "id": "jDUeHEQXyI4w"
   },
   "outputs": [],
   "source": [
    "train_dataset = dsets.MNIST(root='./data',train=True,transform=transforms.ToTensor(),download=True)\n",
    "test_dataset = dsets.MNIST(root='./data',train=False,transform=transforms.ToTensor())\n",
    "train_loader = torch.utils.data.DataLoader(dataset=train_dataset,batch_size=batch_size,shuffle=True)\n",
    "test_loader = torch.utils.data.DataLoader(dataset=test_dataset,batch_size=batch_size,shuffle=False)"
   ]
  },
  {
   "cell_type": "code",
   "execution_count": null,
   "metadata": {
    "colab": {},
    "colab_type": "code",
    "id": "zr48YTwayML_"
   },
   "outputs": [],
   "source": [
    "class Autoencoder(nn.Module):\n",
    "  def __init__(self,no_of_weights):\n",
    "    super(Autoencoder,self).__init__()\n",
    "\n",
    "    self.encoder = nn.Sequential(\n",
    "        nn.Linear(28*28, 256),\n",
    "        nn.ReLU(True),\n",
    "        nn.Linear(256, no_of_weights),\n",
    "        nn.ReLU(True)\n",
    "    )\n",
    "    self.decoder = nn.Sequential(\n",
    "        nn.Linear(no_of_weights, 256),\n",
    "        nn.ReLU(True),\n",
    "        nn.Linear(256, 28*28),\n",
    "        nn.ReLU(True)\n",
    "    )\n",
    "\n",
    "  def forward(self, x):\n",
    "    hl = self.encoder(x)\n",
    "    out = self.decoder(hl)\n",
    "    return hl,out"
   ]
  },
  {
   "cell_type": "code",
   "execution_count": 35,
   "metadata": {
    "colab": {
     "base_uri": "https://localhost:8080/",
     "height": 187
    },
    "colab_type": "code",
    "executionInfo": {
     "elapsed": 86823,
     "status": "ok",
     "timestamp": 1572519340916,
     "user": {
      "displayName": "Aniket Mohanty",
      "photoUrl": "",
      "userId": "10442872571175066721"
     },
     "user_tz": -330
    },
    "id": "YpxJwthJyXv_",
    "outputId": "c2e70905-85af-4901-8fea-1371623253fa"
   },
   "outputs": [
    {
     "name": "stdout",
     "output_type": "stream",
     "text": [
      "Epoch [1/10], Loss = 0.04509\n",
      "Epoch [2/10], Loss = 0.03462\n",
      "Epoch [3/10], Loss = 0.03346\n",
      "Epoch [4/10], Loss = 0.03309\n",
      "Epoch [5/10], Loss = 0.03286\n",
      "Epoch [6/10], Loss = 0.03269\n",
      "Epoch [7/10], Loss = 0.03247\n",
      "Epoch [8/10], Loss = 0.03217\n",
      "Epoch [9/10], Loss = 0.03209\n",
      "Epoch [10/10], Loss = 0.03204\n"
     ]
    }
   ],
   "source": [
    "lr = 1e-2\n",
    "no_of_weights = 64\n",
    "ae = Autoencoder(no_of_weights)\n",
    "if use_cuda and torch.cuda.is_available():\n",
    "  ae.cuda()\n",
    "  \n",
    "criterion = nn.MSELoss()\n",
    "optimizer = optim.Adam(ae.parameters(), lr)\n",
    "  \n",
    "losses = []\n",
    "for epoch in range(epochs):\n",
    "  running_loss,cnt = 0.0,0\n",
    "  for i, (images, labels) in enumerate(train_loader):\n",
    "    images = Variable(images.view(images.size(0),-1))\n",
    "    labels = Variable(labels)\n",
    "    \n",
    "    if use_cuda and torch.cuda.is_available():\n",
    "      images = images.cuda()\n",
    "      labels = labels.cuda()\n",
    "\n",
    "    optimizer.zero_grad()\n",
    "    hl_out,outputs = ae(images)\n",
    "    loss = criterion(outputs, images)\n",
    "    loss.backward()\n",
    "    optimizer.step()\n",
    "    running_loss += loss.item()\n",
    "    cnt+=1\n",
    "  epoch_loss = running_loss/cnt\n",
    "  print('Epoch [%d/%d], Loss = %.5f'%(epoch+1,epochs,epoch_loss))\n",
    "  losses.append(epoch_loss)"
   ]
  },
  {
   "cell_type": "code",
   "execution_count": null,
   "metadata": {
    "colab": {},
    "colab_type": "code",
    "id": "pXarSpa_0k1K"
   },
   "outputs": [],
   "source": [
    "ndata = len(train_dataset)\n",
    "hSize = 64\n",
    "\n",
    "iMat = torch.zeros((ndata,28*28))\n",
    "rMat = torch.zeros((ndata,28*28))\n",
    "featMat = torch.zeros((ndata,hSize))\n",
    "labelMat = torch.zeros((ndata))\n",
    "cntr=0\n",
    "\n",
    "with torch.no_grad():\n",
    "    for i,(images,labels) in enumerate(train_loader):\n",
    "\n",
    "        images = images.view(-1, 28*28)\n",
    "        images = images.cuda()\n",
    "        \n",
    "        hFeats,rImg = ae(images)\n",
    "        \n",
    "        iMat[cntr:cntr+batch_size,:] = images\n",
    "        featMat[cntr:cntr+batch_size,:] = hFeats  \n",
    "        labelMat[cntr:cntr+batch_size] = labels\n",
    "        \n",
    "        cntr+=batch_size\n",
    "        \n",
    "        if cntr>=ndata:\n",
    "            break\n"
   ]
  },
  {
   "cell_type": "code",
   "execution_count": null,
   "metadata": {
    "colab": {},
    "colab_type": "code",
    "id": "M8SryMDY-Okn"
   },
   "outputs": [],
   "source": [
    "ndata_test = len(test_dataset)\n",
    "hSize = 64\n",
    "testFeatMat = torch.zeros((ndata,hSize))\n",
    "testMat = torch.zeros((ndata_test,28*28))\n",
    "testLabelMat = torch.zeros((ndata_test))\n",
    "cntr=0\n",
    "with torch.no_grad():\n",
    "  for i,(images,labels) in enumerate(test_loader):\n",
    "    images = images.view(-1, 28*28)\n",
    "    images = images.cuda()\n",
    "    \n",
    "    hFeats,rImg = ae(images)\n",
    "    testMat[cntr:cntr+batch_size,:] = images\n",
    "    testFeatMat[cntr:cntr+batch_size,:] = hFeats\n",
    "    testLabelMat[cntr:cntr+batch_size] = labels\n",
    "    cntr+=batch_size    \n",
    "    if cntr>=ndata_test:\n",
    "        break"
   ]
  },
  {
   "cell_type": "code",
   "execution_count": null,
   "metadata": {
    "colab": {},
    "colab_type": "code",
    "id": "-xNMJ_lJ3gKf"
   },
   "outputs": [],
   "source": [
    "alltrain_Features = iMat.numpy()[:10000,:]\n",
    "htrain_Features = featMat.numpy()[:10000,:]\n",
    "train_labels = labelMat.numpy()[:10000]\n",
    "alltest_Features = testMat.numpy()[:1000,:]\n",
    "htest_Features = testFeatMat.numpy()[:1000,:]\n",
    "test_labels = testLabelMat.numpy()[:1000]"
   ]
  },
  {
   "cell_type": "code",
   "execution_count": 39,
   "metadata": {
    "colab": {
     "base_uri": "https://localhost:8080/",
     "height": 136
    },
    "colab_type": "code",
    "executionInfo": {
     "elapsed": 476264,
     "status": "ok",
     "timestamp": 1572519842333,
     "user": {
      "displayName": "Aniket Mohanty",
      "photoUrl": "",
      "userId": "10442872571175066721"
     },
     "user_tz": -330
    },
    "id": "vrWp8Goe67BI",
    "outputId": "46bcfe59-57da-4dac-c2ea-394f19f1233d"
   },
   "outputs": [
    {
     "data": {
      "text/plain": [
       "MLPClassifier(activation='relu', alpha=0.0001, batch_size='auto', beta_1=0.9,\n",
       "              beta_2=0.999, early_stopping=False, epsilon=1e-08,\n",
       "              hidden_layer_sizes=(1000, 1000), learning_rate='constant',\n",
       "              learning_rate_init=0.005, max_iter=200, momentum=0.9,\n",
       "              n_iter_no_change=10, nesterovs_momentum=True, power_t=0.5,\n",
       "              random_state=None, shuffle=True, solver='adam', tol=0.0001,\n",
       "              validation_fraction=0.1, verbose=False, warm_start=False)"
      ]
     },
     "execution_count": 39,
     "metadata": {
      "tags": []
     },
     "output_type": "execute_result"
    }
   ],
   "source": [
    "from sklearn.neural_network import MLPClassifier\n",
    "clf1 = MLPClassifier(hidden_layer_sizes=(1000,1000),max_iter=200,learning_rate_init=0.0005)\n",
    "clf1.fit(alltrain_Features,train_labels)\n",
    "clf2 = MLPClassifier(hidden_layer_sizes=(1000,1000),max_iter=200,learning_rate_init=0.005)\n",
    "clf2.fit(htrain_Features,train_labels)"
   ]
  },
  {
   "cell_type": "code",
   "execution_count": 40,
   "metadata": {
    "colab": {
     "base_uri": "https://localhost:8080/",
     "height": 316
    },
    "colab_type": "code",
    "executionInfo": {
     "elapsed": 474564,
     "status": "ok",
     "timestamp": 1572519842772,
     "user": {
      "displayName": "Aniket Mohanty",
      "photoUrl": "",
      "userId": "10442872571175066721"
     },
     "user_tz": -330
    },
    "id": "PotkG7NFNCqb",
    "outputId": "31a5cdc0-cfa8-4e99-cadb-ef4a459eb25e"
   },
   "outputs": [
    {
     "name": "stdout",
     "output_type": "stream",
     "text": [
      "0.969\n",
      "0.877\n"
     ]
    },
    {
     "data": {
      "text/plain": [
       "[<matplotlib.lines.Line2D at 0x7fc5e101e9b0>]"
      ]
     },
     "execution_count": 40,
     "metadata": {
      "tags": []
     },
     "output_type": "execute_result"
    },
    {
     "data": {
      "image/png": "[encoded data removed]",
      "text/plain": [
       "<Figure size 432x288 with 1 Axes>"
      ]
     },
     "metadata": {
      "tags": []
     },
     "output_type": "display_data"
    }
   ],
   "source": [
    "print(clf1.score(alltest_Features, test_labels))\n",
    "print(clf2.score(htest_Features, test_labels))\n",
    "plt.plot(clf2.loss_curve_)"
   ]
  }
 ],
 "metadata": {
  "accelerator": "GPU",
  "colab": {
   "collapsed_sections": [],
   "name": "PSET20HW3.ipynb",
   "provenance": []
  },
  "kernelspec": {
   "display_name": "Python 3",
   "language": "python",
   "name": "python3"
  },
  "language_info": {
   "codemirror_mode": {
    "name": "ipython",
    "version": 3
   },
   "file_extension": ".py",
   "mimetype": "text/x-python",
   "name": "python",
   "nbconvert_exporter": "python",
   "pygments_lexer": "ipython3",
   "version": "3.7.4"
  }
 },
 "nbformat": 4,
 "nbformat_minor": 4
}
